{
 "cells": [
  {
   "cell_type": "code",
   "execution_count": 1,
   "metadata": {},
   "outputs": [],
   "source": [
    "# Importing the Libraries\n",
    "\n",
    "from tensorflow.keras.models import load_model\n",
    "import numpy as np\n",
    "import pickle\n",
    "\n",
    "\n",
    "import warnings\n",
    "warnings.filterwarnings('ignore')\n",
    "\n",
    "import ipywidgets as widgets\n",
    "from IPython.display import display, clear_output\n",
    "\n",
    "\n",
    "import tensorflow as tf\n",
    "tf.get_logger().setLevel('ERROR')\n",
    "\n",
    "model = load_model('next_words.h5')\n",
    "tokenizer = pickle.load(open('token.pkl', 'rb'))\n",
    "\n",
    "def Predict_Next_Words(model, tokenizer, text):\n",
    "\n",
    "    for i in range(4):\n",
    "        sequence = tokenizer.texts_to_sequences([text])[0]\n",
    "        sequence = np.array(sequence)\n",
    "\n",
    "        pred3 = np.argsort(model.predict(sequence), axis=-1)[0]\n",
    "        preds = model.predict_classes(sequence) \n",
    "\n",
    "        resultsno = int(buttonprediction.value)\n",
    "\n",
    "        predicted_word = \"\"\n",
    "\n",
    "        for x in range(resultsno):\n",
    "\n",
    "            predsort = pred3[len(pred3) - (x + 1)]\n",
    "\n",
    "            for key, value in tokenizer.word_index.items():\n",
    "                if value == predsort:\n",
    "                    predicted_word = key \n",
    "                    print('[',predicted_word, ']', end='')\n",
    "                    break\n",
    "\n",
    "        return predicted_word"
   ]
  },
  {
   "cell_type": "code",
   "execution_count": 2,
   "metadata": {},
   "outputs": [],
   "source": [
    "from ipywidgets import AppLayout, Button, Layout\n",
    "def create_expanded_button(description, button_style):\n",
    "    return Button(description=description, button_style=button_style, layout=Layout(height='auto', width='auto'))\n",
    "\n",
    "header_button = create_expanded_button('Header', 'success')\n",
    "left_button = create_expanded_button('Left', 'info')\n",
    "center_button = create_expanded_button('Center', 'warning')\n",
    "right_button = create_expanded_button('Right', 'info')\n",
    "footer_button = create_expanded_button('Footer', 'success')\n",
    "\n"
   ]
  },
  {
   "cell_type": "code",
   "execution_count": 9,
   "metadata": {},
   "outputs": [],
   "source": [
    "buttonprediction = widgets.ToggleButtons(\n",
    "    options=['5', '10', '20','50','100'],\n",
    "    #description='Value of predicted words: ',\n",
    "    disabled=False,\n",
    "    button_style='warning',\n",
    ")\n",
    "\n",
    "btn = widgets.Button(description=\"Save\")\n",
    "box_layout = widgets.Layout(display='flex',\n",
    "                flex_flow='column',\n",
    "                align_items='center',\n",
    "                width='auto')\n",
    "text_1 = widgets.HTML(value=\"<p>Value of predictions</p>\")\n",
    "\n",
    "box = widgets.HBox(children=[text_1,buttonprediction],layout=box_layout)"
   ]
  },
  {
   "cell_type": "code",
   "execution_count": 10,
   "metadata": {},
   "outputs": [],
   "source": [
    "# name\n",
    "\n",
    "name = widgets.Text(placeholder='Write something...', continuous_update=False)"
   ]
  },
  {
   "cell_type": "code",
   "execution_count": 11,
   "metadata": {},
   "outputs": [],
   "source": [
    "# button send\n",
    "\n",
    "button_send = widgets.Button(\n",
    "                description='Start predicting',\n",
    "                tooltip='Send',\n",
    "                style={'description_width': 'initial'}\n",
    "            )\n",
    "\n",
    "output = widgets.Output()\n",
    "\n",
    "def on_button_clicked(event):\n",
    "    with output:\n",
    "        clear_output()        \n",
    "        text = name.value\n",
    "        try:       \n",
    "            text = text.split(\" \")\n",
    "            text = text[-1]\n",
    "\n",
    "            text = ''.join(text)\n",
    "            Predict_Next_Words(model, tokenizer, text)\n",
    "        except:\n",
    "            print(\"Error\")\n",
    "            \n",
    "def on_change(change):\n",
    "    with output:\n",
    "        clear_output()\n",
    "        \n",
    "        try:       \n",
    "            text = change.new.split(\" \")\n",
    "            text = text[-1]\n",
    "\n",
    "            text = ''.join(text)\n",
    "            Predict_Next_Words(model, tokenizer, text)\n",
    "        except:\n",
    "            print(\"Error\")\n",
    "            \n",
    "            \n",
    "name.observe(on_change, names =[\"value\"])\n",
    "           \n",
    "     \n",
    "\n",
    "button_send.on_click(on_button_clicked)\n",
    "\n",
    "vbox_result = widgets.VBox([ button_send, output])"
   ]
  },
  {
   "cell_type": "code",
   "execution_count": 12,
   "metadata": {},
   "outputs": [],
   "source": [
    "# stacked right hand side\n",
    "\n",
    "text_0 = widgets.HTML(value=\"<h3>Language Model mit Recurrent neural network (RNN)</h3>\")\n",
    "\n",
    "\n",
    "vbox_text = widgets.VBox([name, vbox_result])"
   ]
  },
  {
   "cell_type": "code",
   "execution_count": 13,
   "metadata": {
    "scrolled": true
   },
   "outputs": [
    {
     "data": {
      "application/vnd.jupyter.widget-view+json": {
       "model_id": "23984620790640b69271f7ae1fbc543d",
       "version_major": 2,
       "version_minor": 0
      },
      "text/plain": [
       "AppLayout(children=(Button(description='Language Modell mit RNN', layout=Layout(grid_area='header', height='au…"
      ]
     },
     "metadata": {},
     "output_type": "display_data"
    }
   ],
   "source": [
    "text = name\n",
    "page = widgets.HBox([vbox_text])\n",
    "\n",
    "\n",
    "\n",
    "header_button2 = Button(description= 'Language Modell mit RNN',style={'button_color':'#AED6F1'}, layout=Layout(height='auto', width='auto', color='#A569BD'))\n",
    "left_button = create_expanded_button('', 'info')\n",
    "center_button = create_expanded_button('Center', 'warning')\n",
    "right_button = create_expanded_button('', 'info')\n",
    "\n",
    "AppLayout(header=header_button2,\n",
    "          left_sidebar=left_button,\n",
    "          center=page,\n",
    "          right_sidebar=right_button,\n",
    "          footer=box)\n"
   ]
  },
  {
   "cell_type": "code",
   "execution_count": null,
   "metadata": {},
   "outputs": [],
   "source": []
  },
  {
   "cell_type": "code",
   "execution_count": null,
   "metadata": {},
   "outputs": [],
   "source": []
  }
 ],
 "metadata": {
  "kernelspec": {
   "display_name": "Python 3",
   "language": "python",
   "name": "python3"
  },
  "language_info": {
   "codemirror_mode": {
    "name": "ipython",
    "version": 3
   },
   "file_extension": ".py",
   "mimetype": "text/x-python",
   "name": "python",
   "nbconvert_exporter": "python",
   "pygments_lexer": "ipython3",
   "version": "3.8.8"
  }
 },
 "nbformat": 4,
 "nbformat_minor": 2
}
